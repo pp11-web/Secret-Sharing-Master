{
 "cells": [
  {
   "cell_type": "code",
   "execution_count": null,
   "id": "12034d47",
   "metadata": {},
   "outputs": [],
   "source": [
    "from gui_window import Ui_SecretSharingEncryption\n",
    "import sys\n",
    "from PyQt5.QtWidgets import QApplication, QMainWindow\n",
    "from PyQt5.QtGui import QIcon\n",
    "import qdarkstyle\n",
    "\n",
    "\n",
    "class AppWindow(QMainWindow):\n",
    "    def __init__(self):\n",
    "        super().__init__()\n",
    "        self.ui = Ui_SecretSharingEncryption()\n",
    "        self.setWindowIcon(QIcon('../res/encryption_30x30.png'))\n",
    "        self.setStyleSheet(qdarkstyle.load_stylesheet_pyqt5())\n",
    "        #self.setStyleSheet('QMainWindow{background-color: darkgray;}')\n",
    "        self.ui.setupUi(self)\n",
    "        self.show()\n",
    "\n",
    "\n",
    "if __name__ == '__main__':\n",
    "    app = QApplication(sys.argv)\n",
    "    w = AppWindow()\n",
    "    w.show()\n",
    "    sys.exit(app.exec_())\n"
   ]
  }
 ],
 "metadata": {
  "kernelspec": {
   "display_name": "Python 3 (ipykernel)",
   "language": "python",
   "name": "python3"
  },
  "language_info": {
   "codemirror_mode": {
    "name": "ipython",
    "version": 3
   },
   "file_extension": ".py",
   "mimetype": "text/x-python",
   "name": "python",
   "nbconvert_exporter": "python",
   "pygments_lexer": "ipython3",
   "version": "3.9.12"
  }
 },
 "nbformat": 4,
 "nbformat_minor": 5
}
